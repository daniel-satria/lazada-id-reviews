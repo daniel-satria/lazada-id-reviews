{
 "cells": [
  {
   "cell_type": "code",
   "execution_count": 1,
   "metadata": {},
   "outputs": [],
   "source": [
    "import os"
   ]
  },
  {
   "cell_type": "code",
   "execution_count": 2,
   "metadata": {},
   "outputs": [
    {
     "data": {
      "text/plain": [
       "'/home/ubuntu/learning/mlops/pacmann/lazada-id-reviews/notebooks'"
      ]
     },
     "execution_count": 2,
     "metadata": {},
     "output_type": "execute_result"
    }
   ],
   "source": [
    "%pwd"
   ]
  },
  {
   "cell_type": "code",
   "execution_count": 3,
   "metadata": {},
   "outputs": [],
   "source": [
    "# Change to the main directory\n",
    "# So, it's executed from main directory\n",
    "os.chdir(\"../\")"
   ]
  },
  {
   "cell_type": "code",
   "execution_count": 4,
   "metadata": {},
   "outputs": [
    {
     "data": {
      "text/plain": [
       "'/home/ubuntu/learning/mlops/pacmann/lazada-id-reviews'"
      ]
     },
     "execution_count": 4,
     "metadata": {},
     "output_type": "execute_result"
    }
   ],
   "source": [
    "%pwd"
   ]
  },
  {
   "cell_type": "markdown",
   "metadata": {},
   "source": [
    "### Training Config\n",
    "\n",
    "This code will be apply in `src/LadazaIDReview/entity/config_entity.py`."
   ]
  },
  {
   "cell_type": "code",
   "execution_count": 5,
   "metadata": {},
   "outputs": [],
   "source": [
    "from dataclasses import dataclass\n",
    "from pathlib import Path\n",
    "\n",
    "@dataclass(frozen=True)\n",
    "class TrainingConfig:\n",
    "    root_dir: Path\n",
    "    input_train_path: Path\n",
    "    output_train_path: Path\n",
    "    vectorized_train_path: Path\n",
    "    model_path: Path\n",
    "    params_max_iter: int\n",
    "    params_solver: str\n",
    "    params_n_jobs: int"
   ]
  },
  {
   "cell_type": "markdown",
   "metadata": {},
   "source": [
    "### Training Config Manager\n",
    "\n",
    "This code will be apply in `src/LazadaIDReview/config/configurations.py`."
   ]
  },
  {
   "cell_type": "code",
   "execution_count": 6,
   "metadata": {},
   "outputs": [],
   "source": [
    "from LazadaIDReviews.constants import CONFIG_FILE_PATH, PARAMS_FILE_PATH\n",
    "from LazadaIDReviews.utils.common import read_yaml, create_directories"
   ]
  },
  {
   "cell_type": "code",
   "execution_count": 7,
   "metadata": {},
   "outputs": [],
   "source": [
    "class ConfigurationManager:\n",
    "    def __init__(self, \n",
    "                 config_filepath = CONFIG_FILE_PATH,\n",
    "                 params_filepath = PARAMS_FILE_PATH):\n",
    "\n",
    "        self.config = read_yaml(config_filepath)\n",
    "        self.params = read_yaml(params_filepath)\n",
    "\n",
    "        create_directories([self.config.artifacts_root])\n",
    "    \n",
    "    def get_training_config(self) -> TrainingConfig:\n",
    "        \"\"\"read training config file and store as config entity\n",
    "        then apply the dataclasses\n",
    "        \n",
    "        Returns:\n",
    "            config: TrainingConfig type\n",
    "        \"\"\"\n",
    "        data_dump_config = self.config.dump_data\n",
    "        vectorize_config = self.config.vectorize_data\n",
    "        train_config = self.config.train_model\n",
    "        train_params = self.params\n",
    "\n",
    "        create_directories([train_config.root_dir])\n",
    "\n",
    "        config = TrainingConfig(\n",
    "            root_dir=train_config.root_dir,\n",
    "            input_train_path=Path(data_dump_config.input_train_path),\n",
    "            output_train_path=Path(data_dump_config.output_train_path),\n",
    "            vectorized_train_path=Path(vectorize_config.vectorized_train_path),\n",
    "            model_path=Path(train_config.model_path),\n",
    "            params_max_iter=train_params.MAX_ITER,\n",
    "            params_solver=train_params.SOLVER,\n",
    "            params_n_jobs=train_params.N_JOBS\n",
    "        )\n",
    "\n",
    "        return config"
   ]
  },
  {
   "cell_type": "markdown",
   "metadata": {},
   "source": [
    "### Perform Training\n",
    "\n",
    "This code in `src/LazadaIDReview/components/training.py`.\n",
    "\n",
    "For this example, for initial run we could use logistic regression, later on we could try:\n",
    "+ another model\n",
    "+ another data enrichment technique\n",
    "+ another model tweaking"
   ]
  },
  {
   "cell_type": "code",
   "execution_count": 8,
   "metadata": {},
   "outputs": [],
   "source": [
    "import joblib\n",
    "\n",
    "from sklearn.linear_model import LogisticRegression\n",
    "from sklearn.metrics import classification_report\n",
    "\n",
    "from LazadaIDReviews import logger\n",
    "\n",
    "class Training:\n",
    "    def __init__(self, config: TrainingConfig):\n",
    "        self.config = config\n",
    "\n",
    "    def logistic_regression(self) -> None:\n",
    "        \"\"\"train the data with linear regression model and dump the data\n",
    "        \"\"\"\n",
    "        logger.info(f\"Load vectorized data train from {self.config.vectorized_train_path}.\")\n",
    "        X_train_vec = joblib.load(self.config.vectorized_train_path)\n",
    "        \n",
    "        logger.info(f\"Load data train output from {self.config.output_train_path}.\")\n",
    "        y_train = joblib.load(self.config.output_train_path)\n",
    "        \n",
    "        logger.info(f\"Train the model.\")\n",
    "        model = LogisticRegression(\n",
    "            solver=self.config.params_solver,\n",
    "            max_iter=self.config.params_max_iter,\n",
    "            n_jobs=self.config.params_n_jobs\n",
    "        )\n",
    "        \n",
    "        model.fit(X_train_vec, y_train)\n",
    "        \n",
    "        logger.info(f\"Dump the model.\")\n",
    "        joblib.dump(model, self.config.model_path)"
   ]
  },
  {
   "cell_type": "markdown",
   "metadata": {},
   "source": [
    "### Traning the Model\n",
    "\n",
    "This code in `src/LazadaIDReview/pipeline/step_03_training.py`."
   ]
  },
  {
   "cell_type": "code",
   "execution_count": 9,
   "metadata": {},
   "outputs": [
    {
     "name": "stdout",
     "output_type": "stream",
     "text": [
      "[2024-09-11 04:32:36,155: INFO: common: yaml file: config/config.yaml loaded successfully]\n",
      "[2024-09-11 04:32:36,157: INFO: common: yaml file: metrics/params.yaml loaded successfully]\n",
      "[2024-09-11 04:32:36,158: INFO: common: created directory at: artifacts]\n",
      "[2024-09-11 04:32:36,158: INFO: common: created directory at: artifacts/models]\n",
      "[2024-09-11 04:32:36,159: INFO: 994031705: Load vectorized data train from artifacts/preprocessing/X_train_vec.pkl.]\n",
      "[2024-09-11 04:32:36,169: INFO: 994031705: Load data train output from artifacts/data/y_train.pkl.]\n",
      "[2024-09-11 04:32:36,420: INFO: 994031705: Train the model.]\n",
      "[2024-09-11 04:32:40,227: INFO: 994031705: Dump the model.]\n"
     ]
    },
    {
     "name": "stderr",
     "output_type": "stream",
     "text": [
      "/home/ubuntu/learning/mlops/pacmann/lazada-id-reviews/.venv/lib/python3.10/site-packages/sklearn/linear_model/_logistic.py:469: ConvergenceWarning: lbfgs failed to converge (status=1):\n",
      "STOP: TOTAL NO. of ITERATIONS REACHED LIMIT.\n",
      "\n",
      "Increase the number of iterations (max_iter) or scale the data as shown in:\n",
      "    https://scikit-learn.org/stable/modules/preprocessing.html\n",
      "Please also refer to the documentation for alternative solver options:\n",
      "    https://scikit-learn.org/stable/modules/linear_model.html#logistic-regression\n",
      "  n_iter_i = _check_optimize_result(\n"
     ]
    }
   ],
   "source": [
    "try:\n",
    "    config = ConfigurationManager()\n",
    "    training_config = config.get_training_config()\n",
    "    training = Training(config=training_config)\n",
    "    training.logistic_regression()\n",
    "except Exception as e:\n",
    "    logger.error(e)\n",
    "    raise e"
   ]
  },
  {
   "cell_type": "markdown",
   "metadata": {},
   "source": [
    "**Debug**: Predict by showing the data training prediction result."
   ]
  },
  {
   "cell_type": "code",
   "execution_count": 10,
   "metadata": {},
   "outputs": [
    {
     "data": {
      "text/plain": [
       "0        1\n",
       "1        5\n",
       "2        5\n",
       "3        5\n",
       "4        5\n",
       "        ..\n",
       "82950    4\n",
       "82951    4\n",
       "82952    4\n",
       "82953    4\n",
       "82954    4\n",
       "Length: 82955, dtype: int64"
      ]
     },
     "execution_count": 10,
     "metadata": {},
     "output_type": "execute_result"
    }
   ],
   "source": [
    "import pandas as pd\n",
    "\n",
    "X_train = joblib.load(training_config.input_train_path)\n",
    "X_train_vec = joblib.load(training_config.vectorized_train_path)\n",
    "y_train = joblib.load(training_config.output_train_path)\n",
    "model = joblib.load(training_config.model_path)\n",
    "\n",
    "y_pred = pd.Series(model.predict(X_train_vec), index = X_train.index)\n",
    "y_pred"
   ]
  },
  {
   "cell_type": "code",
   "execution_count": 11,
   "metadata": {},
   "outputs": [
    {
     "name": "stdout",
     "output_type": "stream",
     "text": [
      "              precision    recall  f1-score   support\n",
      "\n",
      "           1       0.96      0.97      0.96     16591\n",
      "           2       0.97      0.98      0.98     16591\n",
      "           3       0.92      0.91      0.92     16591\n",
      "           4       0.84      0.79      0.81     16591\n",
      "           5       0.76      0.79      0.77     16591\n",
      "\n",
      "    accuracy                           0.89     82955\n",
      "   macro avg       0.89      0.89      0.89     82955\n",
      "weighted avg       0.89      0.89      0.89     82955\n",
      "\n"
     ]
    }
   ],
   "source": [
    "print(f\"{classification_report(y_train, y_pred)}\")"
   ]
  }
 ],
 "metadata": {
  "kernelspec": {
   "display_name": ".venv_lzd",
   "language": "python",
   "name": "python3"
  },
  "language_info": {
   "codemirror_mode": {
    "name": "ipython",
    "version": 3
   },
   "file_extension": ".py",
   "mimetype": "text/x-python",
   "name": "python",
   "nbconvert_exporter": "python",
   "pygments_lexer": "ipython3",
   "version": "3.10.14"
  }
 },
 "nbformat": 4,
 "nbformat_minor": 2
}
